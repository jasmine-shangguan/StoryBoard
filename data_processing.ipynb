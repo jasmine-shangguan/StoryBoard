{
 "cells": [
  {
   "cell_type": "code",
   "execution_count": 1,
   "metadata": {},
   "outputs": [],
   "source": [
    "import pandas as pd\n",
    "import numpy as np\n",
    "import datetime\n",
    "import matplotlib.pyplot as plt\n",
    "\n",
    "\n",
    "import warnings\n",
    "warnings.filterwarnings(\"ignore\")"
   ]
  },
  {
   "cell_type": "code",
   "execution_count": 2,
   "metadata": {},
   "outputs": [],
   "source": [
    "data = pd.read_excel(\"./public/FinalGroupdataset.xlsx\")"
   ]
  },
  {
   "cell_type": "code",
   "execution_count": 3,
   "metadata": {},
   "outputs": [
    {
     "data": {
      "text/html": [
       "<div>\n",
       "<style scoped>\n",
       "    .dataframe tbody tr th:only-of-type {\n",
       "        vertical-align: middle;\n",
       "    }\n",
       "\n",
       "    .dataframe tbody tr th {\n",
       "        vertical-align: top;\n",
       "    }\n",
       "\n",
       "    .dataframe thead th {\n",
       "        text-align: right;\n",
       "    }\n",
       "</style>\n",
       "<table border=\"1\" class=\"dataframe\">\n",
       "  <thead>\n",
       "    <tr style=\"text-align: right;\">\n",
       "      <th></th>\n",
       "      <th>Date</th>\n",
       "      <th>Month</th>\n",
       "      <th>Year</th>\n",
       "      <th>Stock Movement</th>\n",
       "      <th>Ticker</th>\n",
       "      <th>CPI</th>\n",
       "      <th>Inflation</th>\n",
       "      <th>Average House Prices</th>\n",
       "      <th>Hourly Wage</th>\n",
       "      <th>Gold</th>\n",
       "      <th>10 Years Bond Interest</th>\n",
       "      <th>Bitcoin</th>\n",
       "      <th>Bank Interest Rate</th>\n",
       "    </tr>\n",
       "  </thead>\n",
       "  <tbody>\n",
       "    <tr>\n",
       "      <th>0</th>\n",
       "      <td>1999-12-31</td>\n",
       "      <td>12</td>\n",
       "      <td>1999</td>\n",
       "      <td>8481.10</td>\n",
       "      <td>S&amp;P/TSX Composite Canada</td>\n",
       "      <td>93.7</td>\n",
       "      <td>0.0272</td>\n",
       "      <td>119600.0</td>\n",
       "      <td>24.72</td>\n",
       "      <td>273.60000</td>\n",
       "      <td>NaN</td>\n",
       "      <td>NaN</td>\n",
       "      <td>NaN</td>\n",
       "    </tr>\n",
       "    <tr>\n",
       "      <th>1</th>\n",
       "      <td>2000-01-31</td>\n",
       "      <td>1</td>\n",
       "      <td>2000</td>\n",
       "      <td>9129.00</td>\n",
       "      <td>S&amp;P/TSX Composite Canada</td>\n",
       "      <td>93.5</td>\n",
       "      <td>0.0272</td>\n",
       "      <td>170696.0</td>\n",
       "      <td>24.72</td>\n",
       "      <td>273.60000</td>\n",
       "      <td>NaN</td>\n",
       "      <td>NaN</td>\n",
       "      <td>NaN</td>\n",
       "    </tr>\n",
       "    <tr>\n",
       "      <th>2</th>\n",
       "      <td>2000-02-29</td>\n",
       "      <td>2</td>\n",
       "      <td>2000</td>\n",
       "      <td>9462.40</td>\n",
       "      <td>S&amp;P/TSX Composite Canada</td>\n",
       "      <td>94.1</td>\n",
       "      <td>0.0272</td>\n",
       "      <td>170894.0</td>\n",
       "      <td>24.72</td>\n",
       "      <td>273.60000</td>\n",
       "      <td>NaN</td>\n",
       "      <td>NaN</td>\n",
       "      <td>NaN</td>\n",
       "    </tr>\n",
       "    <tr>\n",
       "      <th>3</th>\n",
       "      <td>2000-03-31</td>\n",
       "      <td>3</td>\n",
       "      <td>2000</td>\n",
       "      <td>9347.60</td>\n",
       "      <td>S&amp;P/TSX Composite Canada</td>\n",
       "      <td>94.8</td>\n",
       "      <td>0.0272</td>\n",
       "      <td>171711.0</td>\n",
       "      <td>24.72</td>\n",
       "      <td>273.60000</td>\n",
       "      <td>NaN</td>\n",
       "      <td>NaN</td>\n",
       "      <td>NaN</td>\n",
       "    </tr>\n",
       "    <tr>\n",
       "      <th>4</th>\n",
       "      <td>2000-04-30</td>\n",
       "      <td>4</td>\n",
       "      <td>2000</td>\n",
       "      <td>9252.00</td>\n",
       "      <td>S&amp;P/TSX Composite Canada</td>\n",
       "      <td>94.5</td>\n",
       "      <td>0.0272</td>\n",
       "      <td>171909.0</td>\n",
       "      <td>24.72</td>\n",
       "      <td>273.60000</td>\n",
       "      <td>NaN</td>\n",
       "      <td>NaN</td>\n",
       "      <td>NaN</td>\n",
       "    </tr>\n",
       "    <tr>\n",
       "      <th>...</th>\n",
       "      <td>...</td>\n",
       "      <td>...</td>\n",
       "      <td>...</td>\n",
       "      <td>...</td>\n",
       "      <td>...</td>\n",
       "      <td>...</td>\n",
       "      <td>...</td>\n",
       "      <td>...</td>\n",
       "      <td>...</td>\n",
       "      <td>...</td>\n",
       "      <td>...</td>\n",
       "      <td>...</td>\n",
       "      <td>...</td>\n",
       "    </tr>\n",
       "    <tr>\n",
       "      <th>295</th>\n",
       "      <td>2024-07-31</td>\n",
       "      <td>7</td>\n",
       "      <td>2024</td>\n",
       "      <td>23346.20</td>\n",
       "      <td>S&amp;P/TSX Composite Canada</td>\n",
       "      <td>162.1</td>\n",
       "      <td>NaN</td>\n",
       "      <td>718000.0</td>\n",
       "      <td>NaN</td>\n",
       "      <td>2659.92865</td>\n",
       "      <td>3.32</td>\n",
       "      <td>NaN</td>\n",
       "      <td>NaN</td>\n",
       "    </tr>\n",
       "    <tr>\n",
       "      <th>296</th>\n",
       "      <td>2024-08-31</td>\n",
       "      <td>8</td>\n",
       "      <td>2024</td>\n",
       "      <td>24000.40</td>\n",
       "      <td>S&amp;P/TSX Composite Canada</td>\n",
       "      <td>161.8</td>\n",
       "      <td>NaN</td>\n",
       "      <td>718000.0</td>\n",
       "      <td>NaN</td>\n",
       "      <td>2659.22090</td>\n",
       "      <td>3.03</td>\n",
       "      <td>NaN</td>\n",
       "      <td>NaN</td>\n",
       "    </tr>\n",
       "    <tr>\n",
       "      <th>297</th>\n",
       "      <td>2024-09-30</td>\n",
       "      <td>9</td>\n",
       "      <td>2024</td>\n",
       "      <td>24156.90</td>\n",
       "      <td>S&amp;P/TSX Composite Canada</td>\n",
       "      <td>161.1</td>\n",
       "      <td>NaN</td>\n",
       "      <td>718000.0</td>\n",
       "      <td>NaN</td>\n",
       "      <td>2426.50000</td>\n",
       "      <td>2.86</td>\n",
       "      <td>NaN</td>\n",
       "      <td>NaN</td>\n",
       "    </tr>\n",
       "    <tr>\n",
       "      <th>298</th>\n",
       "      <td>2024-10-31</td>\n",
       "      <td>10</td>\n",
       "      <td>2024</td>\n",
       "      <td>24890.70</td>\n",
       "      <td>S&amp;P/TSX Composite Canada</td>\n",
       "      <td>NaN</td>\n",
       "      <td>NaN</td>\n",
       "      <td>NaN</td>\n",
       "      <td>NaN</td>\n",
       "      <td>2493.80000</td>\n",
       "      <td>3.13</td>\n",
       "      <td>NaN</td>\n",
       "      <td>NaN</td>\n",
       "    </tr>\n",
       "    <tr>\n",
       "      <th>299</th>\n",
       "      <td>2024-11-15</td>\n",
       "      <td>11</td>\n",
       "      <td>2024</td>\n",
       "      <td>24890.68</td>\n",
       "      <td>S&amp;P/TSX Composite Canada</td>\n",
       "      <td>NaN</td>\n",
       "      <td>NaN</td>\n",
       "      <td>NaN</td>\n",
       "      <td>NaN</td>\n",
       "      <td>2738.30000</td>\n",
       "      <td>3.31</td>\n",
       "      <td>NaN</td>\n",
       "      <td>NaN</td>\n",
       "    </tr>\n",
       "  </tbody>\n",
       "</table>\n",
       "<p>300 rows × 13 columns</p>\n",
       "</div>"
      ],
      "text/plain": [
       "          Date  Month  Year  Stock Movement                    Ticker    CPI  \\\n",
       "0   1999-12-31     12  1999         8481.10  S&P/TSX Composite Canada   93.7   \n",
       "1   2000-01-31      1  2000         9129.00  S&P/TSX Composite Canada   93.5   \n",
       "2   2000-02-29      2  2000         9462.40  S&P/TSX Composite Canada   94.1   \n",
       "3   2000-03-31      3  2000         9347.60  S&P/TSX Composite Canada   94.8   \n",
       "4   2000-04-30      4  2000         9252.00  S&P/TSX Composite Canada   94.5   \n",
       "..         ...    ...   ...             ...                       ...    ...   \n",
       "295 2024-07-31      7  2024        23346.20  S&P/TSX Composite Canada  162.1   \n",
       "296 2024-08-31      8  2024        24000.40  S&P/TSX Composite Canada  161.8   \n",
       "297 2024-09-30      9  2024        24156.90  S&P/TSX Composite Canada  161.1   \n",
       "298 2024-10-31     10  2024        24890.70  S&P/TSX Composite Canada    NaN   \n",
       "299 2024-11-15     11  2024        24890.68  S&P/TSX Composite Canada    NaN   \n",
       "\n",
       "     Inflation  Average House Prices  Hourly Wage        Gold  \\\n",
       "0       0.0272              119600.0        24.72   273.60000   \n",
       "1       0.0272              170696.0        24.72   273.60000   \n",
       "2       0.0272              170894.0        24.72   273.60000   \n",
       "3       0.0272              171711.0        24.72   273.60000   \n",
       "4       0.0272              171909.0        24.72   273.60000   \n",
       "..         ...                   ...          ...         ...   \n",
       "295        NaN              718000.0          NaN  2659.92865   \n",
       "296        NaN              718000.0          NaN  2659.22090   \n",
       "297        NaN              718000.0          NaN  2426.50000   \n",
       "298        NaN                   NaN          NaN  2493.80000   \n",
       "299        NaN                   NaN          NaN  2738.30000   \n",
       "\n",
       "     10 Years Bond Interest  Bitcoin  Bank Interest Rate  \n",
       "0                       NaN      NaN                 NaN  \n",
       "1                       NaN      NaN                 NaN  \n",
       "2                       NaN      NaN                 NaN  \n",
       "3                       NaN      NaN                 NaN  \n",
       "4                       NaN      NaN                 NaN  \n",
       "..                      ...      ...                 ...  \n",
       "295                    3.32      NaN                 NaN  \n",
       "296                    3.03      NaN                 NaN  \n",
       "297                    2.86      NaN                 NaN  \n",
       "298                    3.13      NaN                 NaN  \n",
       "299                    3.31      NaN                 NaN  \n",
       "\n",
       "[300 rows x 13 columns]"
      ]
     },
     "execution_count": 3,
     "metadata": {},
     "output_type": "execute_result"
    }
   ],
   "source": [
    "data"
   ]
  },
  {
   "cell_type": "code",
   "execution_count": 4,
   "metadata": {},
   "outputs": [],
   "source": [
    "inflation_data = data[~(data[\"Inflation\"].isna())][[\"Date\",\"Inflation\"]]"
   ]
  },
  {
   "cell_type": "code",
   "execution_count": 5,
   "metadata": {},
   "outputs": [
    {
     "data": {
      "text/html": [
       "<div>\n",
       "<style scoped>\n",
       "    .dataframe tbody tr th:only-of-type {\n",
       "        vertical-align: middle;\n",
       "    }\n",
       "\n",
       "    .dataframe tbody tr th {\n",
       "        vertical-align: top;\n",
       "    }\n",
       "\n",
       "    .dataframe thead th {\n",
       "        text-align: right;\n",
       "    }\n",
       "</style>\n",
       "<table border=\"1\" class=\"dataframe\">\n",
       "  <thead>\n",
       "    <tr style=\"text-align: right;\">\n",
       "      <th></th>\n",
       "      <th>Date</th>\n",
       "      <th>Inflation</th>\n",
       "    </tr>\n",
       "  </thead>\n",
       "  <tbody>\n",
       "    <tr>\n",
       "      <th>0</th>\n",
       "      <td>1999-12-31</td>\n",
       "      <td>0.0272</td>\n",
       "    </tr>\n",
       "    <tr>\n",
       "      <th>1</th>\n",
       "      <td>2000-01-31</td>\n",
       "      <td>0.0272</td>\n",
       "    </tr>\n",
       "    <tr>\n",
       "      <th>2</th>\n",
       "      <td>2000-02-29</td>\n",
       "      <td>0.0272</td>\n",
       "    </tr>\n",
       "    <tr>\n",
       "      <th>3</th>\n",
       "      <td>2000-03-31</td>\n",
       "      <td>0.0272</td>\n",
       "    </tr>\n",
       "    <tr>\n",
       "      <th>4</th>\n",
       "      <td>2000-04-30</td>\n",
       "      <td>0.0272</td>\n",
       "    </tr>\n",
       "    <tr>\n",
       "      <th>...</th>\n",
       "      <td>...</td>\n",
       "      <td>...</td>\n",
       "    </tr>\n",
       "    <tr>\n",
       "      <th>241</th>\n",
       "      <td>2020-01-31</td>\n",
       "      <td>0.0072</td>\n",
       "    </tr>\n",
       "    <tr>\n",
       "      <th>253</th>\n",
       "      <td>2021-01-31</td>\n",
       "      <td>0.0340</td>\n",
       "    </tr>\n",
       "    <tr>\n",
       "      <th>265</th>\n",
       "      <td>2022-01-31</td>\n",
       "      <td>0.0680</td>\n",
       "    </tr>\n",
       "    <tr>\n",
       "      <th>277</th>\n",
       "      <td>2023-01-31</td>\n",
       "      <td>0.0388</td>\n",
       "    </tr>\n",
       "    <tr>\n",
       "      <th>289</th>\n",
       "      <td>2024-01-31</td>\n",
       "      <td>0.0261</td>\n",
       "    </tr>\n",
       "  </tbody>\n",
       "</table>\n",
       "<p>70 rows × 2 columns</p>\n",
       "</div>"
      ],
      "text/plain": [
       "          Date  Inflation\n",
       "0   1999-12-31     0.0272\n",
       "1   2000-01-31     0.0272\n",
       "2   2000-02-29     0.0272\n",
       "3   2000-03-31     0.0272\n",
       "4   2000-04-30     0.0272\n",
       "..         ...        ...\n",
       "241 2020-01-31     0.0072\n",
       "253 2021-01-31     0.0340\n",
       "265 2022-01-31     0.0680\n",
       "277 2023-01-31     0.0388\n",
       "289 2024-01-31     0.0261\n",
       "\n",
       "[70 rows x 2 columns]"
      ]
     },
     "execution_count": 5,
     "metadata": {},
     "output_type": "execute_result"
    }
   ],
   "source": [
    "inflation_data"
   ]
  },
  {
   "cell_type": "code",
   "execution_count": 6,
   "metadata": {},
   "outputs": [],
   "source": [
    "dollar_effect = (1 + inflation_data[\"Inflation\"]).cumprod()"
   ]
  },
  {
   "cell_type": "code",
   "execution_count": 7,
   "metadata": {},
   "outputs": [],
   "source": [
    "inflation_data[\"dollar_deval\"] = 1 / dollar_effect"
   ]
  },
  {
   "cell_type": "code",
   "execution_count": 8,
   "metadata": {},
   "outputs": [
    {
     "data": {
      "text/plain": [
       "Index(['Date', 'Inflation', 'dollar_deval'], dtype='object')"
      ]
     },
     "execution_count": 8,
     "metadata": {},
     "output_type": "execute_result"
    }
   ],
   "source": [
    "inflation_data.columns"
   ]
  },
  {
   "cell_type": "code",
   "execution_count": 9,
   "metadata": {},
   "outputs": [],
   "source": [
    "import json"
   ]
  },
  {
   "cell_type": "code",
   "execution_count": 10,
   "metadata": {},
   "outputs": [],
   "source": [
    "with open(\"dollarDevaluation.json\", \"w\") as file:\n",
    "    file.write(inflation_data[[\"Date\", \"dollar_deval\"]].to_json(orient=\"records\"))\n"
   ]
  },
  {
   "cell_type": "code",
   "execution_count": 2,
   "metadata": {},
   "outputs": [],
   "source": [
    "import pandas as pd"
   ]
  },
  {
   "cell_type": "code",
   "execution_count": 109,
   "metadata": {},
   "outputs": [],
   "source": [
    "inflation = pd.read_excel(\"./public/Infaltion.xlsx\",sheet_name=\"Data\")"
   ]
  },
  {
   "cell_type": "code",
   "execution_count": 110,
   "metadata": {},
   "outputs": [],
   "source": [
    "inflation = inflation.iloc[4:-6,[1,2]]"
   ]
  },
  {
   "cell_type": "code",
   "execution_count": 111,
   "metadata": {},
   "outputs": [
    {
     "data": {
      "text/html": [
       "<div>\n",
       "<style scoped>\n",
       "    .dataframe tbody tr th:only-of-type {\n",
       "        vertical-align: middle;\n",
       "    }\n",
       "\n",
       "    .dataframe tbody tr th {\n",
       "        vertical-align: top;\n",
       "    }\n",
       "\n",
       "    .dataframe thead th {\n",
       "        text-align: right;\n",
       "    }\n",
       "</style>\n",
       "<table border=\"1\" class=\"dataframe\">\n",
       "  <thead>\n",
       "    <tr style=\"text-align: right;\">\n",
       "      <th></th>\n",
       "      <th>Unnamed: 1</th>\n",
       "      <th>Unnamed: 2</th>\n",
       "    </tr>\n",
       "  </thead>\n",
       "  <tbody>\n",
       "    <tr>\n",
       "      <th>4</th>\n",
       "      <td>1987</td>\n",
       "      <td>4.37</td>\n",
       "    </tr>\n",
       "    <tr>\n",
       "      <th>5</th>\n",
       "      <td>1988</td>\n",
       "      <td>4.03</td>\n",
       "    </tr>\n",
       "    <tr>\n",
       "      <th>6</th>\n",
       "      <td>1989</td>\n",
       "      <td>4.98</td>\n",
       "    </tr>\n",
       "    <tr>\n",
       "      <th>7</th>\n",
       "      <td>1990</td>\n",
       "      <td>4.78</td>\n",
       "    </tr>\n",
       "    <tr>\n",
       "      <th>8</th>\n",
       "      <td>1991</td>\n",
       "      <td>5.63</td>\n",
       "    </tr>\n",
       "  </tbody>\n",
       "</table>\n",
       "</div>"
      ],
      "text/plain": [
       "  Unnamed: 1  Unnamed: 2\n",
       "4       1987        4.37\n",
       "5       1988        4.03\n",
       "6       1989        4.98\n",
       "7       1990        4.78\n",
       "8       1991        5.63"
      ]
     },
     "execution_count": 111,
     "metadata": {},
     "output_type": "execute_result"
    }
   ],
   "source": [
    "inflation.head()"
   ]
  },
  {
   "cell_type": "code",
   "execution_count": 112,
   "metadata": {},
   "outputs": [],
   "source": [
    "inflation.columns = [\"date\", \"inflation\"]"
   ]
  },
  {
   "cell_type": "code",
   "execution_count": 113,
   "metadata": {},
   "outputs": [],
   "source": [
    "inflation[\"inflation\"] = inflation[\"inflation\"]/100"
   ]
  },
  {
   "cell_type": "code",
   "execution_count": 114,
   "metadata": {},
   "outputs": [
    {
     "data": {
      "text/html": [
       "<div>\n",
       "<style scoped>\n",
       "    .dataframe tbody tr th:only-of-type {\n",
       "        vertical-align: middle;\n",
       "    }\n",
       "\n",
       "    .dataframe tbody tr th {\n",
       "        vertical-align: top;\n",
       "    }\n",
       "\n",
       "    .dataframe thead th {\n",
       "        text-align: right;\n",
       "    }\n",
       "</style>\n",
       "<table border=\"1\" class=\"dataframe\">\n",
       "  <thead>\n",
       "    <tr style=\"text-align: right;\">\n",
       "      <th></th>\n",
       "      <th>date</th>\n",
       "      <th>inflation</th>\n",
       "    </tr>\n",
       "  </thead>\n",
       "  <tbody>\n",
       "    <tr>\n",
       "      <th>4</th>\n",
       "      <td>1987</td>\n",
       "      <td>0.0437</td>\n",
       "    </tr>\n",
       "    <tr>\n",
       "      <th>5</th>\n",
       "      <td>1988</td>\n",
       "      <td>0.0403</td>\n",
       "    </tr>\n",
       "    <tr>\n",
       "      <th>6</th>\n",
       "      <td>1989</td>\n",
       "      <td>0.0498</td>\n",
       "    </tr>\n",
       "    <tr>\n",
       "      <th>7</th>\n",
       "      <td>1990</td>\n",
       "      <td>0.0478</td>\n",
       "    </tr>\n",
       "    <tr>\n",
       "      <th>8</th>\n",
       "      <td>1991</td>\n",
       "      <td>0.0563</td>\n",
       "    </tr>\n",
       "  </tbody>\n",
       "</table>\n",
       "</div>"
      ],
      "text/plain": [
       "   date  inflation\n",
       "4  1987     0.0437\n",
       "5  1988     0.0403\n",
       "6  1989     0.0498\n",
       "7  1990     0.0478\n",
       "8  1991     0.0563"
      ]
     },
     "execution_count": 114,
     "metadata": {},
     "output_type": "execute_result"
    }
   ],
   "source": [
    "inflation.head()"
   ]
  },
  {
   "cell_type": "code",
   "execution_count": 115,
   "metadata": {},
   "outputs": [],
   "source": [
    "inflation[\"date\"] = pd.to_datetime(inflation.date, format=\"%Y\")"
   ]
  },
  {
   "cell_type": "code",
   "execution_count": 116,
   "metadata": {},
   "outputs": [
    {
     "data": {
      "text/html": [
       "<div>\n",
       "<style scoped>\n",
       "    .dataframe tbody tr th:only-of-type {\n",
       "        vertical-align: middle;\n",
       "    }\n",
       "\n",
       "    .dataframe tbody tr th {\n",
       "        vertical-align: top;\n",
       "    }\n",
       "\n",
       "    .dataframe thead th {\n",
       "        text-align: right;\n",
       "    }\n",
       "</style>\n",
       "<table border=\"1\" class=\"dataframe\">\n",
       "  <thead>\n",
       "    <tr style=\"text-align: right;\">\n",
       "      <th></th>\n",
       "      <th>date</th>\n",
       "      <th>inflation</th>\n",
       "    </tr>\n",
       "  </thead>\n",
       "  <tbody>\n",
       "    <tr>\n",
       "      <th>4</th>\n",
       "      <td>1987-01-01</td>\n",
       "      <td>0.0437</td>\n",
       "    </tr>\n",
       "    <tr>\n",
       "      <th>5</th>\n",
       "      <td>1988-01-01</td>\n",
       "      <td>0.0403</td>\n",
       "    </tr>\n",
       "    <tr>\n",
       "      <th>6</th>\n",
       "      <td>1989-01-01</td>\n",
       "      <td>0.0498</td>\n",
       "    </tr>\n",
       "    <tr>\n",
       "      <th>7</th>\n",
       "      <td>1990-01-01</td>\n",
       "      <td>0.0478</td>\n",
       "    </tr>\n",
       "    <tr>\n",
       "      <th>8</th>\n",
       "      <td>1991-01-01</td>\n",
       "      <td>0.0563</td>\n",
       "    </tr>\n",
       "  </tbody>\n",
       "</table>\n",
       "</div>"
      ],
      "text/plain": [
       "        date  inflation\n",
       "4 1987-01-01     0.0437\n",
       "5 1988-01-01     0.0403\n",
       "6 1989-01-01     0.0498\n",
       "7 1990-01-01     0.0478\n",
       "8 1991-01-01     0.0563"
      ]
     },
     "execution_count": 116,
     "metadata": {},
     "output_type": "execute_result"
    }
   ],
   "source": [
    "inflation.head()"
   ]
  },
  {
   "cell_type": "code",
   "execution_count": 119,
   "metadata": {},
   "outputs": [],
   "source": [
    "inflation  = inflation.iloc[3:,:]"
   ]
  },
  {
   "cell_type": "code",
   "execution_count": 120,
   "metadata": {},
   "outputs": [
    {
     "data": {
      "text/html": [
       "<div>\n",
       "<style scoped>\n",
       "    .dataframe tbody tr th:only-of-type {\n",
       "        vertical-align: middle;\n",
       "    }\n",
       "\n",
       "    .dataframe tbody tr th {\n",
       "        vertical-align: top;\n",
       "    }\n",
       "\n",
       "    .dataframe thead th {\n",
       "        text-align: right;\n",
       "    }\n",
       "</style>\n",
       "<table border=\"1\" class=\"dataframe\">\n",
       "  <thead>\n",
       "    <tr style=\"text-align: right;\">\n",
       "      <th></th>\n",
       "      <th>date</th>\n",
       "      <th>inflation</th>\n",
       "    </tr>\n",
       "  </thead>\n",
       "  <tbody>\n",
       "    <tr>\n",
       "      <th>17</th>\n",
       "      <td>2000-01-01</td>\n",
       "      <td>0.0272</td>\n",
       "    </tr>\n",
       "    <tr>\n",
       "      <th>18</th>\n",
       "      <td>2001-01-01</td>\n",
       "      <td>0.0253</td>\n",
       "    </tr>\n",
       "    <tr>\n",
       "      <th>19</th>\n",
       "      <td>2002-01-01</td>\n",
       "      <td>0.0226</td>\n",
       "    </tr>\n",
       "    <tr>\n",
       "      <th>20</th>\n",
       "      <td>2003-01-01</td>\n",
       "      <td>0.0276</td>\n",
       "    </tr>\n",
       "    <tr>\n",
       "      <th>21</th>\n",
       "      <td>2004-01-01</td>\n",
       "      <td>0.0186</td>\n",
       "    </tr>\n",
       "  </tbody>\n",
       "</table>\n",
       "</div>"
      ],
      "text/plain": [
       "         date  inflation\n",
       "17 2000-01-01     0.0272\n",
       "18 2001-01-01     0.0253\n",
       "19 2002-01-01     0.0226\n",
       "20 2003-01-01     0.0276\n",
       "21 2004-01-01     0.0186"
      ]
     },
     "execution_count": 120,
     "metadata": {},
     "output_type": "execute_result"
    }
   ],
   "source": [
    "inflation.head()"
   ]
  },
  {
   "cell_type": "code",
   "execution_count": 122,
   "metadata": {},
   "outputs": [],
   "source": [
    "inflation_data = inflation[[\"date\"]]"
   ]
  },
  {
   "cell_type": "code",
   "execution_count": 123,
   "metadata": {},
   "outputs": [],
   "source": [
    "inflation_data[\"dollar_deval\"] =1 / ((1+inflation[\"inflation\"]).cumprod())"
   ]
  },
  {
   "cell_type": "code",
   "execution_count": 124,
   "metadata": {},
   "outputs": [
    {
     "data": {
      "text/html": [
       "<div>\n",
       "<style scoped>\n",
       "    .dataframe tbody tr th:only-of-type {\n",
       "        vertical-align: middle;\n",
       "    }\n",
       "\n",
       "    .dataframe tbody tr th {\n",
       "        vertical-align: top;\n",
       "    }\n",
       "\n",
       "    .dataframe thead th {\n",
       "        text-align: right;\n",
       "    }\n",
       "</style>\n",
       "<table border=\"1\" class=\"dataframe\">\n",
       "  <thead>\n",
       "    <tr style=\"text-align: right;\">\n",
       "      <th></th>\n",
       "      <th>date</th>\n",
       "      <th>dollar_deval</th>\n",
       "    </tr>\n",
       "  </thead>\n",
       "  <tbody>\n",
       "    <tr>\n",
       "      <th>17</th>\n",
       "      <td>2000-01-01</td>\n",
       "      <td>0.973520</td>\n",
       "    </tr>\n",
       "    <tr>\n",
       "      <th>18</th>\n",
       "      <td>2001-01-01</td>\n",
       "      <td>0.949498</td>\n",
       "    </tr>\n",
       "    <tr>\n",
       "      <th>19</th>\n",
       "      <td>2002-01-01</td>\n",
       "      <td>0.928514</td>\n",
       "    </tr>\n",
       "    <tr>\n",
       "      <th>20</th>\n",
       "      <td>2003-01-01</td>\n",
       "      <td>0.903575</td>\n",
       "    </tr>\n",
       "    <tr>\n",
       "      <th>21</th>\n",
       "      <td>2004-01-01</td>\n",
       "      <td>0.887075</td>\n",
       "    </tr>\n",
       "  </tbody>\n",
       "</table>\n",
       "</div>"
      ],
      "text/plain": [
       "         date  dollar_deval\n",
       "17 2000-01-01      0.973520\n",
       "18 2001-01-01      0.949498\n",
       "19 2002-01-01      0.928514\n",
       "20 2003-01-01      0.903575\n",
       "21 2004-01-01      0.887075"
      ]
     },
     "execution_count": 124,
     "metadata": {},
     "output_type": "execute_result"
    }
   ],
   "source": [
    "inflation_data.head()"
   ]
  },
  {
   "cell_type": "code",
   "execution_count": 125,
   "metadata": {},
   "outputs": [],
   "source": [
    "import matplotlib.pyplot as plt"
   ]
  },
  {
   "cell_type": "code",
   "execution_count": 127,
   "metadata": {},
   "outputs": [
    {
     "data": {
      "image/png": "[encoded data removed]",
      "text/plain": [
       "<Figure size 640x480 with 1 Axes>"
      ]
     },
     "metadata": {},
     "output_type": "display_data"
    }
   ],
   "source": [
    "plt.plot(inflation_data.date, inflation_data.dollar_deval)\n",
    "plt.grid(linestyle=\"dotted\");\n",
    "plt.xlabel(\"Date\")\n",
    "plt.ylabel(\"$ value\")\n",
    "plt.title(\"Effect of Inflation on $\")\n",
    "plt.annotate(f\"1$ devalued to {inflation_data.dollar_deval.iloc[-1]:.3f}\\u00A2\",(inflation_data.date.iloc[10],0.65))\n",
    "plt.show();"
   ]
  },
  {
   "cell_type": "code",
   "execution_count": 129,
   "metadata": {},
   "outputs": [],
   "source": [
    "with open(\"inflation.json\", \"w\") as file:\n",
    "    file.write(inflation_data[[\"date\", \"dollar_deval\"]].to_json(orient=\"records\"))"
   ]
  },
  {
   "cell_type": "code",
   "execution_count": 12,
   "metadata": {},
   "outputs": [
    {
     "data": {
      "text/plain": [
       "Index(['Date', 'Month', 'Year', 'Stock Movement', 'Ticker', 'CPI', 'Inflation',\n",
       "       'Average House Prices', 'Hourly Wage', 'Gold', '10 Years Bond Interest',\n",
       "       'Bitcoin', 'Bank Interest Rate'],\n",
       "      dtype='object')"
      ]
     },
     "execution_count": 12,
     "metadata": {},
     "output_type": "execute_result"
    }
   ],
   "source": [
    "data.columns"
   ]
  },
  {
   "cell_type": "code",
   "execution_count": 13,
   "metadata": {},
   "outputs": [],
   "source": [
    "housing  = data[[\"Date\", \"Average House Prices\"]]"
   ]
  },
  {
   "cell_type": "code",
   "execution_count": 14,
   "metadata": {},
   "outputs": [],
   "source": [
    "housing = housing.dropna()"
   ]
  },
  {
   "cell_type": "code",
   "execution_count": 15,
   "metadata": {},
   "outputs": [],
   "source": [
    "housing[\"returns\"] = housing[\"Average House Prices\"].pct_change()"
   ]
  },
  {
   "cell_type": "code",
   "execution_count": 16,
   "metadata": {},
   "outputs": [],
   "source": [
    "housing = housing.dropna()"
   ]
  },
  {
   "cell_type": "code",
   "execution_count": 17,
   "metadata": {},
   "outputs": [],
   "source": [
    "housing[\"dollar_apprec\"] = (1 + housing[\"returns\"]).cumprod()"
   ]
  },
  {
   "cell_type": "code",
   "execution_count": 29,
   "metadata": {},
   "outputs": [],
   "source": [
    "with open(\"dollar_housing.json\", \"w\") as file:\n",
    "    file.write(housing[[\"Date\", \"dollar_apprec\"]].to_json(orient=\"records\"))"
   ]
  },
  {
   "cell_type": "code",
   "execution_count": 20,
   "metadata": {},
   "outputs": [
    {
     "data": {
      "image/png": "[encoded data removed]",
      "text/plain": [
       "<Figure size 640x480 with 1 Axes>"
      ]
     },
     "metadata": {},
     "output_type": "display_data"
    }
   ],
   "source": [
    "plt.plot(housing[\"Date\"],housing[\"dollar_apprec\"])\n",
    "plt.grid(linestyle=\"dotted\");\n",
    "plt.xlabel(\"Date\")\n",
    "plt.ylabel(\"$ value\")\n",
    "plt.title(\"Every Dollar invested in a House\")\n",
    "plt.annotate(f\"1 dollar appreciated to {housing.dollar_apprec.iloc[-1]:.3f}\",(housing.Date.iloc[10],4))\n",
    "plt.show();"
   ]
  },
  {
   "cell_type": "code",
   "execution_count": 21,
   "metadata": {},
   "outputs": [],
   "source": [
    "stock_data = data[[\"Date\", 'Stock Movement']]"
   ]
  },
  {
   "cell_type": "code",
   "execution_count": 23,
   "metadata": {},
   "outputs": [],
   "source": [
    "stock_data[\"returns\"] = stock_data[\"Stock Movement\"].pct_change()"
   ]
  },
  {
   "cell_type": "code",
   "execution_count": 24,
   "metadata": {},
   "outputs": [],
   "source": [
    "stock_data[\"dollar_value\"] = (1 + stock_data[\"returns\"]).cumprod()"
   ]
  },
  {
   "cell_type": "code",
   "execution_count": 26,
   "metadata": {},
   "outputs": [
    {
     "data": {
      "image/png": "[encoded data removed]",
      "text/plain": [
       "<Figure size 640x480 with 1 Axes>"
      ]
     },
     "metadata": {},
     "output_type": "display_data"
    }
   ],
   "source": [
    "plt.plot(stock_data[\"Date\"],stock_data[\"dollar_value\"])\n",
    "plt.grid(linestyle=\"dotted\");\n",
    "plt.xlabel(\"Date\")\n",
    "plt.ylabel(\"$ value\")\n",
    "plt.title(\"Every Dollar invested in a TSX\")\n",
    "plt.annotate(f\"1 dollar appreciated to {stock_data.dollar_value.iloc[-1]:.3f}\",(stock_data.Date.iloc[10],2.5))\n",
    "plt.show();"
   ]
  },
  {
   "cell_type": "code",
   "execution_count": null,
   "metadata": {},
   "outputs": [],
   "source": []
  }
 ],
 "metadata": {
  "kernelspec": {
   "display_name": "python",
   "language": "python",
   "name": "python3"
  },
  "language_info": {
   "codemirror_mode": {
    "name": "ipython",
    "version": 3
   },
   "file_extension": ".py",
   "mimetype": "text/x-python",
   "name": "python",
   "nbconvert_exporter": "python",
   "pygments_lexer": "ipython3",
   "version": "3.10.14"
  }
 },
 "nbformat": 4,
 "nbformat_minor": 2
}
